{
 "cells": [
  {
   "cell_type": "code",
   "execution_count": 5,
   "id": "a2f23df8",
   "metadata": {},
   "outputs": [
    {
     "ename": "NameError",
     "evalue": "name 'data' is not defined",
     "output_type": "error",
     "traceback": [
      "\u001b[1;31m---------------------------------------------------------------------------\u001b[0m",
      "\u001b[1;31mNameError\u001b[0m                                 Traceback (most recent call last)",
      "\u001b[1;32m<ipython-input-5-6c94cd6b0d1b>\u001b[0m in \u001b[0;36m<module>\u001b[1;34m\u001b[0m\n\u001b[0;32m      4\u001b[0m \u001b[1;31m#time.julday\u001b[0m\u001b[1;33m\u001b[0m\u001b[1;33m\u001b[0m\u001b[1;33m\u001b[0m\u001b[0m\n\u001b[0;32m      5\u001b[0m \u001b[0mjl\u001b[0m\u001b[1;33m=\u001b[0m\u001b[1;33m[\u001b[0m\u001b[1;33m]\u001b[0m\u001b[1;33m\u001b[0m\u001b[1;33m\u001b[0m\u001b[0m\n\u001b[1;32m----> 6\u001b[1;33m \u001b[1;32mfor\u001b[0m \u001b[0mi\u001b[0m \u001b[1;32min\u001b[0m \u001b[0mdata\u001b[0m\u001b[1;33m.\u001b[0m\u001b[0mloc\u001b[0m\u001b[1;33m[\u001b[0m\u001b[1;33m:\u001b[0m\u001b[1;33m,\u001b[0m\u001b[1;34m'origtime'\u001b[0m\u001b[1;33m]\u001b[0m\u001b[1;33m:\u001b[0m\u001b[1;33m\u001b[0m\u001b[1;33m\u001b[0m\u001b[0m\n\u001b[0m\u001b[0;32m      7\u001b[0m     \u001b[0mr\u001b[0m \u001b[1;33m=\u001b[0m \u001b[0mUTCDateTime\u001b[0m\u001b[1;33m(\u001b[0m\u001b[0mi\u001b[0m\u001b[1;33m,\u001b[0m\u001b[0mprecision\u001b[0m\u001b[1;33m=\u001b[0m\u001b[1;36m1\u001b[0m\u001b[1;33m)\u001b[0m\u001b[1;33m\u001b[0m\u001b[1;33m\u001b[0m\u001b[0m\n\u001b[0;32m      8\u001b[0m     \u001b[0mjl\u001b[0m\u001b[1;33m.\u001b[0m\u001b[0mappend\u001b[0m\u001b[1;33m(\u001b[0m\u001b[0mr\u001b[0m\u001b[1;33m)\u001b[0m\u001b[1;33m\u001b[0m\u001b[1;33m\u001b[0m\u001b[0m\n",
      "\u001b[1;31mNameError\u001b[0m: name 'data' is not defined"
     ]
    }
   ],
   "source": [
    "from obspy.core import read,UTCDateTime\n",
    "import obspy.io.mseed\n",
    "#time=UTCDateTime(\"2021-01-1T18:00:15.8Z\")\n",
    "#time.julday\n",
    "jl=[]\n",
    "for i in data.loc[:,'origtime']:\n",
    "    r = UTCDateTime(i,precision=1)\n",
    "    jl.append(r)\n",
    "data.loc[:,'origtime']=jl\n",
    "data.to_csv('data1.csv')\n",
    "r.precision"
   ]
  },
  {
   "cell_type": "code",
   "execution_count": 12,
   "id": "b58a92be",
   "metadata": {},
   "outputs": [
    {
     "name": "stdout",
     "output_type": "stream",
     "text": [
      "280\n",
      "2419103\n",
      "6967774\n",
      "67\n",
      "1098\n",
      "2699\n",
      "245\n",
      "198\n",
      "400\n",
      "783\n",
      "1535\n",
      "179\n",
      "217\n",
      "3949\n",
      "182\n",
      "474\n",
      "204\n",
      "179\n",
      "159\n",
      "1393\n",
      "6310\n"
     ]
    },
    {
     "data": {
      "text/plain": [
       "21 Trace(s) in Stream:\n",
       "\n",
       "2C.BLK22..EHE | 2021-01-01T21:47:15.000000Z - 2021-01-01T21:47:50.000000Z | 200.0 Hz, 7001 samples\n",
       "...\n",
       "(19 other traces)\n",
       "...\n",
       "2C.VAL41.00.HHE | 2021-01-01T21:47:15.000000Z - 2021-01-01T21:47:50.000000Z | 200.0 Hz, 7001 samples\n",
       "\n",
       "[Use \"print(Stream.__str__(extended=True))\" to print all Traces]"
      ]
     },
     "execution_count": 12,
     "metadata": {},
     "output_type": "execute_result"
    }
   ],
   "source": [
    "from obspy.core import read\n",
    "import obspy.io.mseed\n",
    "import numpy as np\n",
    "st=read(r'C:\\Users\\diego\\OneDrive\\Desktop\\DS\\machine_learning_course_project\\waveforms\\2021-01-01T21_47_20\\2C_2021-01-01T21_47_20.mseed')#,\n",
    "    #endtime='2021-01-01T18:00:15.8386Z',starttime='2021-01-01T01:24:08.7254Z')\n",
    "#st=obspy.io.mseed.core._read_mseed('C:\\\\Users\\diego\\OneDrive\\Desktop\\DS\\machine_learning_course_project\\catalogue_HQDD.csv',format='MSEED')\n",
    "st.filter(\"highpass\", freq=2.0)    # you could test different values\n",
    "\n",
    "\n",
    "st3=st.select(channel='*E')\n",
    "st4=st.select(channel='*N')\n",
    "A=[]\n",
    "for tr1,tr2 in zip(st3,st4):\n",
    "    Ax=int(np.max(np.abs(tr1.data)))\n",
    "    Ay=int(np.max(np.abs(tr2.data)))\n",
    "    Amax=np.max([Ax,Ay])\n",
    "    Ampls=[Ax,Ay]\n",
    "    A=Ampls.index(Ax)\n",
    "    print(Ay)\n",
    "st3"
   ]
  },
  {
   "cell_type": "code",
   "execution_count": null,
   "id": "15989843",
   "metadata": {},
   "outputs": [],
   "source": [
    "st1=st.select(station='R*')\n",
    "A=[]\n",
    "for x in st1:\n",
    "    Ay=num.max(num.abs(x.data))\n",
    "    Amax=num.max(Ay)\n",
    "    A.append(Amax)\n",
    "    print(Amax)"
   ]
  },
  {
   "cell_type": "code",
   "execution_count": null,
   "id": "46d00ff4",
   "metadata": {},
   "outputs": [],
   "source": [
    "a=[]\n",
    "for i in range(1):\n",
    "    print(1)\n",
    "a"
   ]
  }
 ],
 "metadata": {
  "kernelspec": {
   "display_name": "Python 3",
   "language": "python",
   "name": "python3"
  },
  "language_info": {
   "codemirror_mode": {
    "name": "ipython",
    "version": 3
   },
   "file_extension": ".py",
   "mimetype": "text/x-python",
   "name": "python",
   "nbconvert_exporter": "python",
   "pygments_lexer": "ipython3",
   "version": "3.9.5"
  }
 },
 "nbformat": 4,
 "nbformat_minor": 5
}
